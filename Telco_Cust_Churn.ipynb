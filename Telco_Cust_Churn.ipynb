{
  "cells": [
    {
      "cell_type": "markdown",
      "metadata": {},
      "source": [
        "!pip install --upgrade pip\n",
        "!pip install -r requirements.txt\n"
      ]
    },
    {
      "cell_type": "code",
      "execution_count": 3,
      "metadata": {
        "colab": {
          "base_uri": "https://localhost:8080/",
          "height": 342
        },
        "id": "vEB-blk_8s3n",
        "outputId": "d88956e1-2a06-4d4a-d32b-97b3a18d69b7"
      },
      "outputs": [
        {
          "data": {
            "application/vnd.microsoft.datawrangler.viewer.v0+json": {
              "columns": [
                {
                  "name": "index",
                  "rawType": "int64",
                  "type": "integer"
                },
                {
                  "name": "customerID",
                  "rawType": "object",
                  "type": "string"
                },
                {
                  "name": "gender",
                  "rawType": "object",
                  "type": "string"
                },
                {
                  "name": "SeniorCitizen",
                  "rawType": "int64",
                  "type": "integer"
                },
                {
                  "name": "Partner",
                  "rawType": "object",
                  "type": "string"
                },
                {
                  "name": "Dependents",
                  "rawType": "object",
                  "type": "string"
                },
                {
                  "name": "tenure",
                  "rawType": "int64",
                  "type": "integer"
                },
                {
                  "name": "PhoneService",
                  "rawType": "object",
                  "type": "string"
                },
                {
                  "name": "MultipleLines",
                  "rawType": "object",
                  "type": "string"
                },
                {
                  "name": "InternetService",
                  "rawType": "object",
                  "type": "string"
                },
                {
                  "name": "OnlineSecurity",
                  "rawType": "object",
                  "type": "string"
                },
                {
                  "name": "OnlineBackup",
                  "rawType": "object",
                  "type": "string"
                },
                {
                  "name": "DeviceProtection",
                  "rawType": "object",
                  "type": "string"
                },
                {
                  "name": "TechSupport",
                  "rawType": "object",
                  "type": "string"
                },
                {
                  "name": "StreamingTV",
                  "rawType": "object",
                  "type": "string"
                },
                {
                  "name": "StreamingMovies",
                  "rawType": "object",
                  "type": "string"
                },
                {
                  "name": "Contract",
                  "rawType": "object",
                  "type": "string"
                },
                {
                  "name": "PaperlessBilling",
                  "rawType": "object",
                  "type": "string"
                },
                {
                  "name": "PaymentMethod",
                  "rawType": "object",
                  "type": "string"
                },
                {
                  "name": "MonthlyCharges",
                  "rawType": "float64",
                  "type": "float"
                },
                {
                  "name": "TotalCharges",
                  "rawType": "object",
                  "type": "string"
                },
                {
                  "name": "Churn",
                  "rawType": "object",
                  "type": "string"
                }
              ],
              "conversionMethod": "pd.DataFrame",
              "ref": "78aab1ff-4727-461e-9b3b-53c568f110e3",
              "rows": [
                [
                  "0",
                  "7590-VHVEG",
                  "Female",
                  "0",
                  "Yes",
                  "No",
                  "1",
                  "No",
                  "No phone service",
                  "DSL",
                  "No",
                  "Yes",
                  "No",
                  "No",
                  "No",
                  "No",
                  "Month-to-month",
                  "Yes",
                  "Electronic check",
                  "29.85",
                  "29.85",
                  "No"
                ],
                [
                  "1",
                  "5575-GNVDE",
                  "Male",
                  "0",
                  "No",
                  "No",
                  "34",
                  "Yes",
                  "No",
                  "DSL",
                  "Yes",
                  "No",
                  "Yes",
                  "No",
                  "No",
                  "No",
                  "One year",
                  "No",
                  "Mailed check",
                  "56.95",
                  "1889.5",
                  "No"
                ],
                [
                  "2",
                  "3668-QPYBK",
                  "Male",
                  "0",
                  "No",
                  "No",
                  "2",
                  "Yes",
                  "No",
                  "DSL",
                  "Yes",
                  "Yes",
                  "No",
                  "No",
                  "No",
                  "No",
                  "Month-to-month",
                  "Yes",
                  "Mailed check",
                  "53.85",
                  "108.15",
                  "Yes"
                ],
                [
                  "3",
                  "7795-CFOCW",
                  "Male",
                  "0",
                  "No",
                  "No",
                  "45",
                  "No",
                  "No phone service",
                  "DSL",
                  "Yes",
                  "No",
                  "Yes",
                  "Yes",
                  "No",
                  "No",
                  "One year",
                  "No",
                  "Bank transfer (automatic)",
                  "42.3",
                  "1840.75",
                  "No"
                ],
                [
                  "4",
                  "9237-HQITU",
                  "Female",
                  "0",
                  "No",
                  "No",
                  "2",
                  "Yes",
                  "No",
                  "Fiber optic",
                  "No",
                  "No",
                  "No",
                  "No",
                  "No",
                  "No",
                  "Month-to-month",
                  "Yes",
                  "Electronic check",
                  "70.7",
                  "151.65",
                  "Yes"
                ]
              ],
              "shape": {
                "columns": 21,
                "rows": 5
              }
            },
            "text/html": [
              "<div>\n",
              "<style scoped>\n",
              "    .dataframe tbody tr th:only-of-type {\n",
              "        vertical-align: middle;\n",
              "    }\n",
              "\n",
              "    .dataframe tbody tr th {\n",
              "        vertical-align: top;\n",
              "    }\n",
              "\n",
              "    .dataframe thead th {\n",
              "        text-align: right;\n",
              "    }\n",
              "</style>\n",
              "<table border=\"1\" class=\"dataframe\">\n",
              "  <thead>\n",
              "    <tr style=\"text-align: right;\">\n",
              "      <th></th>\n",
              "      <th>customerID</th>\n",
              "      <th>gender</th>\n",
              "      <th>SeniorCitizen</th>\n",
              "      <th>Partner</th>\n",
              "      <th>Dependents</th>\n",
              "      <th>tenure</th>\n",
              "      <th>PhoneService</th>\n",
              "      <th>MultipleLines</th>\n",
              "      <th>InternetService</th>\n",
              "      <th>OnlineSecurity</th>\n",
              "      <th>...</th>\n",
              "      <th>DeviceProtection</th>\n",
              "      <th>TechSupport</th>\n",
              "      <th>StreamingTV</th>\n",
              "      <th>StreamingMovies</th>\n",
              "      <th>Contract</th>\n",
              "      <th>PaperlessBilling</th>\n",
              "      <th>PaymentMethod</th>\n",
              "      <th>MonthlyCharges</th>\n",
              "      <th>TotalCharges</th>\n",
              "      <th>Churn</th>\n",
              "    </tr>\n",
              "  </thead>\n",
              "  <tbody>\n",
              "    <tr>\n",
              "      <th>0</th>\n",
              "      <td>7590-VHVEG</td>\n",
              "      <td>Female</td>\n",
              "      <td>0</td>\n",
              "      <td>Yes</td>\n",
              "      <td>No</td>\n",
              "      <td>1</td>\n",
              "      <td>No</td>\n",
              "      <td>No phone service</td>\n",
              "      <td>DSL</td>\n",
              "      <td>No</td>\n",
              "      <td>...</td>\n",
              "      <td>No</td>\n",
              "      <td>No</td>\n",
              "      <td>No</td>\n",
              "      <td>No</td>\n",
              "      <td>Month-to-month</td>\n",
              "      <td>Yes</td>\n",
              "      <td>Electronic check</td>\n",
              "      <td>29.85</td>\n",
              "      <td>29.85</td>\n",
              "      <td>No</td>\n",
              "    </tr>\n",
              "    <tr>\n",
              "      <th>1</th>\n",
              "      <td>5575-GNVDE</td>\n",
              "      <td>Male</td>\n",
              "      <td>0</td>\n",
              "      <td>No</td>\n",
              "      <td>No</td>\n",
              "      <td>34</td>\n",
              "      <td>Yes</td>\n",
              "      <td>No</td>\n",
              "      <td>DSL</td>\n",
              "      <td>Yes</td>\n",
              "      <td>...</td>\n",
              "      <td>Yes</td>\n",
              "      <td>No</td>\n",
              "      <td>No</td>\n",
              "      <td>No</td>\n",
              "      <td>One year</td>\n",
              "      <td>No</td>\n",
              "      <td>Mailed check</td>\n",
              "      <td>56.95</td>\n",
              "      <td>1889.5</td>\n",
              "      <td>No</td>\n",
              "    </tr>\n",
              "    <tr>\n",
              "      <th>2</th>\n",
              "      <td>3668-QPYBK</td>\n",
              "      <td>Male</td>\n",
              "      <td>0</td>\n",
              "      <td>No</td>\n",
              "      <td>No</td>\n",
              "      <td>2</td>\n",
              "      <td>Yes</td>\n",
              "      <td>No</td>\n",
              "      <td>DSL</td>\n",
              "      <td>Yes</td>\n",
              "      <td>...</td>\n",
              "      <td>No</td>\n",
              "      <td>No</td>\n",
              "      <td>No</td>\n",
              "      <td>No</td>\n",
              "      <td>Month-to-month</td>\n",
              "      <td>Yes</td>\n",
              "      <td>Mailed check</td>\n",
              "      <td>53.85</td>\n",
              "      <td>108.15</td>\n",
              "      <td>Yes</td>\n",
              "    </tr>\n",
              "    <tr>\n",
              "      <th>3</th>\n",
              "      <td>7795-CFOCW</td>\n",
              "      <td>Male</td>\n",
              "      <td>0</td>\n",
              "      <td>No</td>\n",
              "      <td>No</td>\n",
              "      <td>45</td>\n",
              "      <td>No</td>\n",
              "      <td>No phone service</td>\n",
              "      <td>DSL</td>\n",
              "      <td>Yes</td>\n",
              "      <td>...</td>\n",
              "      <td>Yes</td>\n",
              "      <td>Yes</td>\n",
              "      <td>No</td>\n",
              "      <td>No</td>\n",
              "      <td>One year</td>\n",
              "      <td>No</td>\n",
              "      <td>Bank transfer (automatic)</td>\n",
              "      <td>42.30</td>\n",
              "      <td>1840.75</td>\n",
              "      <td>No</td>\n",
              "    </tr>\n",
              "    <tr>\n",
              "      <th>4</th>\n",
              "      <td>9237-HQITU</td>\n",
              "      <td>Female</td>\n",
              "      <td>0</td>\n",
              "      <td>No</td>\n",
              "      <td>No</td>\n",
              "      <td>2</td>\n",
              "      <td>Yes</td>\n",
              "      <td>No</td>\n",
              "      <td>Fiber optic</td>\n",
              "      <td>No</td>\n",
              "      <td>...</td>\n",
              "      <td>No</td>\n",
              "      <td>No</td>\n",
              "      <td>No</td>\n",
              "      <td>No</td>\n",
              "      <td>Month-to-month</td>\n",
              "      <td>Yes</td>\n",
              "      <td>Electronic check</td>\n",
              "      <td>70.70</td>\n",
              "      <td>151.65</td>\n",
              "      <td>Yes</td>\n",
              "    </tr>\n",
              "  </tbody>\n",
              "</table>\n",
              "<p>5 rows × 21 columns</p>\n",
              "</div>"
            ],
            "text/plain": [
              "   customerID  gender  SeniorCitizen Partner Dependents  tenure PhoneService  \\\n",
              "0  7590-VHVEG  Female              0     Yes         No       1           No   \n",
              "1  5575-GNVDE    Male              0      No         No      34          Yes   \n",
              "2  3668-QPYBK    Male              0      No         No       2          Yes   \n",
              "3  7795-CFOCW    Male              0      No         No      45           No   \n",
              "4  9237-HQITU  Female              0      No         No       2          Yes   \n",
              "\n",
              "      MultipleLines InternetService OnlineSecurity  ... DeviceProtection  \\\n",
              "0  No phone service             DSL             No  ...               No   \n",
              "1                No             DSL            Yes  ...              Yes   \n",
              "2                No             DSL            Yes  ...               No   \n",
              "3  No phone service             DSL            Yes  ...              Yes   \n",
              "4                No     Fiber optic             No  ...               No   \n",
              "\n",
              "  TechSupport StreamingTV StreamingMovies        Contract PaperlessBilling  \\\n",
              "0          No          No              No  Month-to-month              Yes   \n",
              "1          No          No              No        One year               No   \n",
              "2          No          No              No  Month-to-month              Yes   \n",
              "3         Yes          No              No        One year               No   \n",
              "4          No          No              No  Month-to-month              Yes   \n",
              "\n",
              "               PaymentMethod MonthlyCharges  TotalCharges Churn  \n",
              "0           Electronic check          29.85         29.85    No  \n",
              "1               Mailed check          56.95        1889.5    No  \n",
              "2               Mailed check          53.85        108.15   Yes  \n",
              "3  Bank transfer (automatic)          42.30       1840.75    No  \n",
              "4           Electronic check          70.70        151.65   Yes  \n",
              "\n",
              "[5 rows x 21 columns]"
            ]
          },
          "execution_count": 3,
          "metadata": {},
          "output_type": "execute_result"
        }
      ],
      "source": [
        "import pandas as pd\n",
        "import numpy as np\n",
        "import matplotlib.pyplot as plt\n",
        "import seaborn as sns\n",
        "\n",
        "# Load dataset\n",
        "df = pd.read_csv('WA_Fn-UseC_-Telco-Customer-Churn.csv')\n",
        "\n",
        "# Preview data\n",
        "df.head()\n"
      ]
    },
    {
      "cell_type": "code",
      "execution_count": 4,
      "metadata": {
        "colab": {
          "base_uri": "https://localhost:8080/"
        },
        "id": "E5aqciyt8xwl",
        "outputId": "41475e64-ca37-4931-ad91-4cad49fadc24"
      },
      "outputs": [
        {
          "name": "stdout",
          "output_type": "stream",
          "text": [
            "Dataset shape: (7043, 21)\n"
          ]
        }
      ],
      "source": [
        "# Check dataset dimensions\n",
        "print(\"Dataset shape:\", df.shape)\n",
        "\n",
        "\n"
      ]
    },
    {
      "cell_type": "code",
      "execution_count": 5,
      "metadata": {
        "colab": {
          "base_uri": "https://localhost:8080/"
        },
        "id": "aGA5edi081uC",
        "outputId": "d7c241e8-661c-4d9c-a7f5-3eed441e5879"
      },
      "outputs": [
        {
          "name": "stdout",
          "output_type": "stream",
          "text": [
            "\n",
            "Data types and missing values info:\n",
            "<class 'pandas.core.frame.DataFrame'>\n",
            "RangeIndex: 7043 entries, 0 to 7042\n",
            "Data columns (total 21 columns):\n",
            " #   Column            Non-Null Count  Dtype  \n",
            "---  ------            --------------  -----  \n",
            " 0   customerID        7043 non-null   object \n",
            " 1   gender            7043 non-null   object \n",
            " 2   SeniorCitizen     7043 non-null   int64  \n",
            " 3   Partner           7043 non-null   object \n",
            " 4   Dependents        7043 non-null   object \n",
            " 5   tenure            7043 non-null   int64  \n",
            " 6   PhoneService      7043 non-null   object \n",
            " 7   MultipleLines     7043 non-null   object \n",
            " 8   InternetService   7043 non-null   object \n",
            " 9   OnlineSecurity    7043 non-null   object \n",
            " 10  OnlineBackup      7043 non-null   object \n",
            " 11  DeviceProtection  7043 non-null   object \n",
            " 12  TechSupport       7043 non-null   object \n",
            " 13  StreamingTV       7043 non-null   object \n",
            " 14  StreamingMovies   7043 non-null   object \n",
            " 15  Contract          7043 non-null   object \n",
            " 16  PaperlessBilling  7043 non-null   object \n",
            " 17  PaymentMethod     7043 non-null   object \n",
            " 18  MonthlyCharges    7043 non-null   float64\n",
            " 19  TotalCharges      7043 non-null   object \n",
            " 20  Churn             7043 non-null   object \n",
            "dtypes: float64(1), int64(2), object(18)\n",
            "memory usage: 1.1+ MB\n"
          ]
        }
      ],
      "source": [
        "# Data types and non-null counts\n",
        "print(\"\\nData types and missing values info:\")\n",
        "df.info()\n"
      ]
    },
    {
      "cell_type": "code",
      "execution_count": 6,
      "metadata": {
        "colab": {
          "base_uri": "https://localhost:8080/"
        },
        "id": "QeAX6OLm826V",
        "outputId": "15381c99-9d12-4168-d0b0-966b22f41f59"
      },
      "outputs": [
        {
          "name": "stdout",
          "output_type": "stream",
          "text": [
            "\n",
            "Missing values:\n",
            " customerID          0\n",
            "gender              0\n",
            "SeniorCitizen       0\n",
            "Partner             0\n",
            "Dependents          0\n",
            "tenure              0\n",
            "PhoneService        0\n",
            "MultipleLines       0\n",
            "InternetService     0\n",
            "OnlineSecurity      0\n",
            "OnlineBackup        0\n",
            "DeviceProtection    0\n",
            "TechSupport         0\n",
            "StreamingTV         0\n",
            "StreamingMovies     0\n",
            "Contract            0\n",
            "PaperlessBilling    0\n",
            "PaymentMethod       0\n",
            "MonthlyCharges      0\n",
            "TotalCharges        0\n",
            "Churn               0\n",
            "dtype: int64\n"
          ]
        }
      ],
      "source": [
        "\n",
        "# Check for missing values explicitly\n",
        "print(\"\\nMissing values:\\n\", df.isnull().sum())"
      ]
    },
    {
      "cell_type": "code",
      "execution_count": 7,
      "metadata": {
        "colab": {
          "base_uri": "https://localhost:8080/",
          "height": 923
        },
        "id": "zXZ2aTAC83jK",
        "outputId": "5b554b24-ea53-4193-ac70-13aa904c9917"
      },
      "outputs": [
        {
          "name": "stdout",
          "output_type": "stream",
          "text": [
            "customerID unique values: ['7590-VHVEG' '5575-GNVDE' '3668-QPYBK' ... '4801-JZAZL' '8361-LTMKD'\n",
            " '3186-AJIEK']\n",
            "gender unique values: ['Female' 'Male']\n",
            "Partner unique values: ['Yes' 'No']\n",
            "Dependents unique values: ['No' 'Yes']\n",
            "PhoneService unique values: ['No' 'Yes']\n",
            "MultipleLines unique values: ['No phone service' 'No' 'Yes']\n",
            "InternetService unique values: ['DSL' 'Fiber optic' 'No']\n",
            "OnlineSecurity unique values: ['No' 'Yes' 'No internet service']\n",
            "OnlineBackup unique values: ['Yes' 'No' 'No internet service']\n",
            "DeviceProtection unique values: ['No' 'Yes' 'No internet service']\n",
            "TechSupport unique values: ['No' 'Yes' 'No internet service']\n",
            "StreamingTV unique values: ['No' 'Yes' 'No internet service']\n",
            "StreamingMovies unique values: ['No' 'Yes' 'No internet service']\n",
            "Contract unique values: ['Month-to-month' 'One year' 'Two year']\n",
            "PaperlessBilling unique values: ['Yes' 'No']\n",
            "PaymentMethod unique values: ['Electronic check' 'Mailed check' 'Bank transfer (automatic)'\n",
            " 'Credit card (automatic)']\n",
            "TotalCharges unique values: ['29.85' '1889.5' '108.15' ... '346.45' '306.6' '6844.5']\n",
            "Churn unique values: ['No' 'Yes']\n",
            "\n",
            "Churn Rate:\n",
            " Churn\n",
            "No     0.73463\n",
            "Yes    0.26537\n",
            "Name: proportion, dtype: float64\n"
          ]
        },
        {
          "data": {
            "image/png": "[encoded data removed]",
            "text/plain": [
              "<Figure size 640x480 with 1 Axes>"
            ]
          },
          "metadata": {},
          "output_type": "display_data"
        }
      ],
      "source": [
        "# Check unique values for categorical variables\n",
        "categorical_columns = df.select_dtypes(include=['object']).columns\n",
        "for column in categorical_columns:\n",
        "    print(f\"{column} unique values: {df[column].unique()}\")\n",
        "\n",
        "# Churn rate\n",
        "churn_rate = df['Churn'].value_counts(normalize=True)\n",
        "print(\"\\nChurn Rate:\\n\", churn_rate)\n",
        "\n",
        "# Plot churn rate\n",
        "sns.countplot(x='Churn', data=df)\n",
        "plt.title(\"Customer Churn Distribution\")\n",
        "plt.show()\n"
      ]
    },
    {
      "cell_type": "code",
      "execution_count": 8,
      "metadata": {
        "colab": {
          "base_uri": "https://localhost:8080/"
        },
        "id": "paxlhfHG86Gj",
        "outputId": "43c65bf1-f2ab-426b-d0a2-36d76abfb02b"
      },
      "outputs": [
        {
          "name": "stdout",
          "output_type": "stream",
          "text": [
            "\n",
            "Missing values after TotalCharges conversion:\n",
            " customerID           0\n",
            "gender               0\n",
            "SeniorCitizen        0\n",
            "Partner              0\n",
            "Dependents           0\n",
            "tenure               0\n",
            "PhoneService         0\n",
            "MultipleLines        0\n",
            "InternetService      0\n",
            "OnlineSecurity       0\n",
            "OnlineBackup         0\n",
            "DeviceProtection     0\n",
            "TechSupport          0\n",
            "StreamingTV          0\n",
            "StreamingMovies      0\n",
            "Contract             0\n",
            "PaperlessBilling     0\n",
            "PaymentMethod        0\n",
            "MonthlyCharges       0\n",
            "TotalCharges        11\n",
            "Churn                0\n",
            "dtype: int64\n",
            "\n",
            "Numerical data description:\n",
            "        SeniorCitizen       tenure  MonthlyCharges  TotalCharges\n",
            "count    7043.000000  7043.000000     7043.000000   7032.000000\n",
            "mean        0.162147    32.371149       64.761692   2283.300441\n",
            "std         0.368612    24.559481       30.090047   2266.771362\n",
            "min         0.000000     0.000000       18.250000     18.800000\n",
            "25%         0.000000     9.000000       35.500000    401.450000\n",
            "50%         0.000000    29.000000       70.350000   1397.475000\n",
            "75%         0.000000    55.000000       89.850000   3794.737500\n",
            "max         1.000000    72.000000      118.750000   8684.800000\n"
          ]
        }
      ],
      "source": [
        "# Convert 'TotalCharges' to numeric (there might be errors)\n",
        "df['TotalCharges'] = pd.to_numeric(df['TotalCharges'], errors='coerce')\n",
        "\n",
        "# Re-check missing values after conversion\n",
        "print(\"\\nMissing values after TotalCharges conversion:\\n\", df.isnull().sum())\n",
        "\n",
        "# Basic statistical summary of numerical columns\n",
        "print(\"\\nNumerical data description:\\n\", df.describe())\n"
      ]
    },
    {
      "cell_type": "code",
      "execution_count": 9,
      "metadata": {
        "colab": {
          "base_uri": "https://localhost:8080/",
          "height": 545
        },
        "id": "ge97xftk89Sa",
        "outputId": "8c35fade-eb7f-4be9-e48c-6e36a3f7eaad"
      },
      "outputs": [
        {
          "data": {
            "image/png": "[encoded data removed]",
            "text/plain": [
              "<Figure size 1000x600 with 2 Axes>"
            ]
          },
          "metadata": {},
          "output_type": "display_data"
        }
      ],
      "source": [
        "# Encode Churn temporarily for correlation check\n",
        "df['ChurnEncoded'] = df['Churn'].map({'Yes':1, 'No':0})\n",
        "\n",
        "# Plot correlation heatmap\n",
        "plt.figure(figsize=(10, 6))\n",
        "sns.heatmap(df.select_dtypes(include=['float64', 'int64']).corr(), annot=True, cmap='coolwarm')\n",
        "plt.title(\"Correlation Heatmap\")\n",
        "plt.show()\n"
      ]
    },
    {
      "cell_type": "code",
      "execution_count": 10,
      "metadata": {
        "colab": {
          "base_uri": "https://localhost:8080/"
        },
        "id": "u5z0Ot3P9H_T",
        "outputId": "184824c1-1b2a-4e9e-d106-7a3784d3ee3e"
      },
      "outputs": [
        {
          "name": "stdout",
          "output_type": "stream",
          "text": [
            "Missing before: 11\n",
            "Missing after: 0\n"
          ]
        },
        {
          "name": "stderr",
          "output_type": "stream",
          "text": [
            "C:\\Users\\HP\\AppData\\Local\\Temp\\ipykernel_28500\\3021517541.py:5: FutureWarning: A value is trying to be set on a copy of a DataFrame or Series through chained assignment using an inplace method.\n",
            "The behavior will change in pandas 3.0. This inplace method will never work because the intermediate object on which we are setting values always behaves as a copy.\n",
            "\n",
            "For example, when doing 'df[col].method(value, inplace=True)', try using 'df.method({col: value}, inplace=True)' or df[col] = df[col].method(value) instead, to perform the operation inplace on the original object.\n",
            "\n",
            "\n",
            "  df['TotalCharges'].fillna(df['TotalCharges'].median(), inplace=True)\n"
          ]
        }
      ],
      "source": [
        "# Handling missing values (TotalCharges has some missing)\n",
        "print(\"Missing before:\", df['TotalCharges'].isnull().sum())\n",
        "\n",
        "# Fill missing values with median or mean (since distribution might be skewed, use median)\n",
        "df['TotalCharges'].fillna(df['TotalCharges'].median(), inplace=True)\n",
        "\n",
        "print(\"Missing after:\", df['TotalCharges'].isnull().sum())\n"
      ]
    },
    {
      "cell_type": "code",
      "execution_count": 11,
      "metadata": {
        "colab": {
          "base_uri": "https://localhost:8080/",
          "height": 206
        },
        "id": "pZs4cnIG9rD6",
        "outputId": "4be78d84-4b29-4957-9e27-dbcff6480d7e"
      },
      "outputs": [
        {
          "data": {
            "application/vnd.microsoft.datawrangler.viewer.v0+json": {
              "columns": [
                {
                  "name": "index",
                  "rawType": "int64",
                  "type": "integer"
                },
                {
                  "name": "MonthlyChargePerTenure",
                  "rawType": "float64",
                  "type": "float"
                },
                {
                  "name": "TotalServices",
                  "rawType": "int64",
                  "type": "integer"
                }
              ],
              "conversionMethod": "pd.DataFrame",
              "ref": "6290e109-8d18-44cb-a399-dc68f7086287",
              "rows": [
                [
                  "0",
                  "14.925",
                  "1"
                ],
                [
                  "1",
                  "1.6271428571428572",
                  "3"
                ],
                [
                  "2",
                  "17.95",
                  "3"
                ],
                [
                  "3",
                  "0.9195652173913043",
                  "3"
                ],
                [
                  "4",
                  "23.566666666666666",
                  "1"
                ]
              ],
              "shape": {
                "columns": 2,
                "rows": 5
              }
            },
            "text/html": [
              "<div>\n",
              "<style scoped>\n",
              "    .dataframe tbody tr th:only-of-type {\n",
              "        vertical-align: middle;\n",
              "    }\n",
              "\n",
              "    .dataframe tbody tr th {\n",
              "        vertical-align: top;\n",
              "    }\n",
              "\n",
              "    .dataframe thead th {\n",
              "        text-align: right;\n",
              "    }\n",
              "</style>\n",
              "<table border=\"1\" class=\"dataframe\">\n",
              "  <thead>\n",
              "    <tr style=\"text-align: right;\">\n",
              "      <th></th>\n",
              "      <th>MonthlyChargePerTenure</th>\n",
              "      <th>TotalServices</th>\n",
              "    </tr>\n",
              "  </thead>\n",
              "  <tbody>\n",
              "    <tr>\n",
              "      <th>0</th>\n",
              "      <td>14.925000</td>\n",
              "      <td>1</td>\n",
              "    </tr>\n",
              "    <tr>\n",
              "      <th>1</th>\n",
              "      <td>1.627143</td>\n",
              "      <td>3</td>\n",
              "    </tr>\n",
              "    <tr>\n",
              "      <th>2</th>\n",
              "      <td>17.950000</td>\n",
              "      <td>3</td>\n",
              "    </tr>\n",
              "    <tr>\n",
              "      <th>3</th>\n",
              "      <td>0.919565</td>\n",
              "      <td>3</td>\n",
              "    </tr>\n",
              "    <tr>\n",
              "      <th>4</th>\n",
              "      <td>23.566667</td>\n",
              "      <td>1</td>\n",
              "    </tr>\n",
              "  </tbody>\n",
              "</table>\n",
              "</div>"
            ],
            "text/plain": [
              "   MonthlyChargePerTenure  TotalServices\n",
              "0               14.925000              1\n",
              "1                1.627143              3\n",
              "2               17.950000              3\n",
              "3                0.919565              3\n",
              "4               23.566667              1"
            ]
          },
          "execution_count": 11,
          "metadata": {},
          "output_type": "execute_result"
        }
      ],
      "source": [
        "# Monthly charge per tenure month (ratio)\n",
        "df['MonthlyChargePerTenure'] = df['MonthlyCharges'] / (df['tenure'] + 1)  # add 1 to avoid division by zero\n",
        "\n",
        "# Total Services Subscribed\n",
        "service_cols = ['PhoneService', 'InternetService', 'OnlineSecurity', 'OnlineBackup',\n",
        "                'DeviceProtection', 'TechSupport', 'StreamingTV', 'StreamingMovies']\n",
        "\n",
        "# Convert \"No internet service\" and \"No phone service\" to 'No'\n",
        "for col in service_cols:\n",
        "    df[col] = df[col].replace({'No internet service': 'No', 'No phone service': 'No'})\n",
        "\n",
        "# Count total number of services subscribed by a customer\n",
        "df['TotalServices'] = df[service_cols].apply(lambda x: (x == 'Yes').sum(), axis=1)\n",
        "\n",
        "# Preview engineered features\n",
        "df[['MonthlyChargePerTenure', 'TotalServices']].head()\n"
      ]
    },
    {
      "cell_type": "code",
      "execution_count": 12,
      "metadata": {
        "colab": {
          "base_uri": "https://localhost:8080/",
          "height": 273
        },
        "id": "HzMEZRIY99lK",
        "outputId": "02f87ca2-368b-4913-faaa-c8d7476410aa"
      },
      "outputs": [
        {
          "data": {
            "application/vnd.microsoft.datawrangler.viewer.v0+json": {
              "columns": [
                {
                  "name": "index",
                  "rawType": "int64",
                  "type": "integer"
                },
                {
                  "name": "SeniorCitizen",
                  "rawType": "int64",
                  "type": "integer"
                },
                {
                  "name": "tenure",
                  "rawType": "int64",
                  "type": "integer"
                },
                {
                  "name": "MonthlyCharges",
                  "rawType": "float64",
                  "type": "float"
                },
                {
                  "name": "TotalCharges",
                  "rawType": "float64",
                  "type": "float"
                },
                {
                  "name": "Churn",
                  "rawType": "object",
                  "type": "string"
                },
                {
                  "name": "ChurnEncoded",
                  "rawType": "int64",
                  "type": "integer"
                },
                {
                  "name": "MonthlyChargePerTenure",
                  "rawType": "float64",
                  "type": "float"
                },
                {
                  "name": "TotalServices",
                  "rawType": "int64",
                  "type": "integer"
                },
                {
                  "name": "gender_Male",
                  "rawType": "bool",
                  "type": "boolean"
                },
                {
                  "name": "Partner_Yes",
                  "rawType": "bool",
                  "type": "boolean"
                },
                {
                  "name": "Dependents_Yes",
                  "rawType": "bool",
                  "type": "boolean"
                },
                {
                  "name": "PhoneService_Yes",
                  "rawType": "bool",
                  "type": "boolean"
                },
                {
                  "name": "MultipleLines_No phone service",
                  "rawType": "bool",
                  "type": "boolean"
                },
                {
                  "name": "MultipleLines_Yes",
                  "rawType": "bool",
                  "type": "boolean"
                },
                {
                  "name": "InternetService_Fiber optic",
                  "rawType": "bool",
                  "type": "boolean"
                },
                {
                  "name": "InternetService_No",
                  "rawType": "bool",
                  "type": "boolean"
                },
                {
                  "name": "OnlineSecurity_Yes",
                  "rawType": "bool",
                  "type": "boolean"
                },
                {
                  "name": "OnlineBackup_Yes",
                  "rawType": "bool",
                  "type": "boolean"
                },
                {
                  "name": "DeviceProtection_Yes",
                  "rawType": "bool",
                  "type": "boolean"
                },
                {
                  "name": "TechSupport_Yes",
                  "rawType": "bool",
                  "type": "boolean"
                },
                {
                  "name": "StreamingTV_Yes",
                  "rawType": "bool",
                  "type": "boolean"
                },
                {
                  "name": "StreamingMovies_Yes",
                  "rawType": "bool",
                  "type": "boolean"
                },
                {
                  "name": "Contract_One year",
                  "rawType": "bool",
                  "type": "boolean"
                },
                {
                  "name": "Contract_Two year",
                  "rawType": "bool",
                  "type": "boolean"
                },
                {
                  "name": "PaperlessBilling_Yes",
                  "rawType": "bool",
                  "type": "boolean"
                },
                {
                  "name": "PaymentMethod_Credit card (automatic)",
                  "rawType": "bool",
                  "type": "boolean"
                },
                {
                  "name": "PaymentMethod_Electronic check",
                  "rawType": "bool",
                  "type": "boolean"
                },
                {
                  "name": "PaymentMethod_Mailed check",
                  "rawType": "bool",
                  "type": "boolean"
                }
              ],
              "conversionMethod": "pd.DataFrame",
              "ref": "02a590e6-2538-4b15-b121-2dc32e0c2f94",
              "rows": [
                [
                  "0",
                  "0",
                  "1",
                  "29.85",
                  "29.85",
                  "No",
                  "0",
                  "14.925",
                  "1",
                  "False",
                  "True",
                  "False",
                  "False",
                  "True",
                  "False",
                  "False",
                  "False",
                  "False",
                  "True",
                  "False",
                  "False",
                  "False",
                  "False",
                  "False",
                  "False",
                  "True",
                  "False",
                  "True",
                  "False"
                ],
                [
                  "1",
                  "0",
                  "34",
                  "56.95",
                  "1889.5",
                  "No",
                  "0",
                  "1.6271428571428572",
                  "3",
                  "True",
                  "False",
                  "False",
                  "True",
                  "False",
                  "False",
                  "False",
                  "False",
                  "True",
                  "False",
                  "True",
                  "False",
                  "False",
                  "False",
                  "True",
                  "False",
                  "False",
                  "False",
                  "False",
                  "True"
                ],
                [
                  "2",
                  "0",
                  "2",
                  "53.85",
                  "108.15",
                  "Yes",
                  "1",
                  "17.95",
                  "3",
                  "True",
                  "False",
                  "False",
                  "True",
                  "False",
                  "False",
                  "False",
                  "False",
                  "True",
                  "True",
                  "False",
                  "False",
                  "False",
                  "False",
                  "False",
                  "False",
                  "True",
                  "False",
                  "False",
                  "True"
                ],
                [
                  "3",
                  "0",
                  "45",
                  "42.3",
                  "1840.75",
                  "No",
                  "0",
                  "0.9195652173913043",
                  "3",
                  "True",
                  "False",
                  "False",
                  "False",
                  "True",
                  "False",
                  "False",
                  "False",
                  "True",
                  "False",
                  "True",
                  "True",
                  "False",
                  "False",
                  "True",
                  "False",
                  "False",
                  "False",
                  "False",
                  "False"
                ],
                [
                  "4",
                  "0",
                  "2",
                  "70.7",
                  "151.65",
                  "Yes",
                  "1",
                  "23.566666666666666",
                  "1",
                  "False",
                  "False",
                  "False",
                  "True",
                  "False",
                  "False",
                  "True",
                  "False",
                  "False",
                  "False",
                  "False",
                  "False",
                  "False",
                  "False",
                  "False",
                  "False",
                  "True",
                  "False",
                  "True",
                  "False"
                ]
              ],
              "shape": {
                "columns": 28,
                "rows": 5
              }
            },
            "text/html": [
              "<div>\n",
              "<style scoped>\n",
              "    .dataframe tbody tr th:only-of-type {\n",
              "        vertical-align: middle;\n",
              "    }\n",
              "\n",
              "    .dataframe tbody tr th {\n",
              "        vertical-align: top;\n",
              "    }\n",
              "\n",
              "    .dataframe thead th {\n",
              "        text-align: right;\n",
              "    }\n",
              "</style>\n",
              "<table border=\"1\" class=\"dataframe\">\n",
              "  <thead>\n",
              "    <tr style=\"text-align: right;\">\n",
              "      <th></th>\n",
              "      <th>SeniorCitizen</th>\n",
              "      <th>tenure</th>\n",
              "      <th>MonthlyCharges</th>\n",
              "      <th>TotalCharges</th>\n",
              "      <th>Churn</th>\n",
              "      <th>ChurnEncoded</th>\n",
              "      <th>MonthlyChargePerTenure</th>\n",
              "      <th>TotalServices</th>\n",
              "      <th>gender_Male</th>\n",
              "      <th>Partner_Yes</th>\n",
              "      <th>...</th>\n",
              "      <th>DeviceProtection_Yes</th>\n",
              "      <th>TechSupport_Yes</th>\n",
              "      <th>StreamingTV_Yes</th>\n",
              "      <th>StreamingMovies_Yes</th>\n",
              "      <th>Contract_One year</th>\n",
              "      <th>Contract_Two year</th>\n",
              "      <th>PaperlessBilling_Yes</th>\n",
              "      <th>PaymentMethod_Credit card (automatic)</th>\n",
              "      <th>PaymentMethod_Electronic check</th>\n",
              "      <th>PaymentMethod_Mailed check</th>\n",
              "    </tr>\n",
              "  </thead>\n",
              "  <tbody>\n",
              "    <tr>\n",
              "      <th>0</th>\n",
              "      <td>0</td>\n",
              "      <td>1</td>\n",
              "      <td>29.85</td>\n",
              "      <td>29.85</td>\n",
              "      <td>No</td>\n",
              "      <td>0</td>\n",
              "      <td>14.925000</td>\n",
              "      <td>1</td>\n",
              "      <td>False</td>\n",
              "      <td>True</td>\n",
              "      <td>...</td>\n",
              "      <td>False</td>\n",
              "      <td>False</td>\n",
              "      <td>False</td>\n",
              "      <td>False</td>\n",
              "      <td>False</td>\n",
              "      <td>False</td>\n",
              "      <td>True</td>\n",
              "      <td>False</td>\n",
              "      <td>True</td>\n",
              "      <td>False</td>\n",
              "    </tr>\n",
              "    <tr>\n",
              "      <th>1</th>\n",
              "      <td>0</td>\n",
              "      <td>34</td>\n",
              "      <td>56.95</td>\n",
              "      <td>1889.50</td>\n",
              "      <td>No</td>\n",
              "      <td>0</td>\n",
              "      <td>1.627143</td>\n",
              "      <td>3</td>\n",
              "      <td>True</td>\n",
              "      <td>False</td>\n",
              "      <td>...</td>\n",
              "      <td>True</td>\n",
              "      <td>False</td>\n",
              "      <td>False</td>\n",
              "      <td>False</td>\n",
              "      <td>True</td>\n",
              "      <td>False</td>\n",
              "      <td>False</td>\n",
              "      <td>False</td>\n",
              "      <td>False</td>\n",
              "      <td>True</td>\n",
              "    </tr>\n",
              "    <tr>\n",
              "      <th>2</th>\n",
              "      <td>0</td>\n",
              "      <td>2</td>\n",
              "      <td>53.85</td>\n",
              "      <td>108.15</td>\n",
              "      <td>Yes</td>\n",
              "      <td>1</td>\n",
              "      <td>17.950000</td>\n",
              "      <td>3</td>\n",
              "      <td>True</td>\n",
              "      <td>False</td>\n",
              "      <td>...</td>\n",
              "      <td>False</td>\n",
              "      <td>False</td>\n",
              "      <td>False</td>\n",
              "      <td>False</td>\n",
              "      <td>False</td>\n",
              "      <td>False</td>\n",
              "      <td>True</td>\n",
              "      <td>False</td>\n",
              "      <td>False</td>\n",
              "      <td>True</td>\n",
              "    </tr>\n",
              "    <tr>\n",
              "      <th>3</th>\n",
              "      <td>0</td>\n",
              "      <td>45</td>\n",
              "      <td>42.30</td>\n",
              "      <td>1840.75</td>\n",
              "      <td>No</td>\n",
              "      <td>0</td>\n",
              "      <td>0.919565</td>\n",
              "      <td>3</td>\n",
              "      <td>True</td>\n",
              "      <td>False</td>\n",
              "      <td>...</td>\n",
              "      <td>True</td>\n",
              "      <td>True</td>\n",
              "      <td>False</td>\n",
              "      <td>False</td>\n",
              "      <td>True</td>\n",
              "      <td>False</td>\n",
              "      <td>False</td>\n",
              "      <td>False</td>\n",
              "      <td>False</td>\n",
              "      <td>False</td>\n",
              "    </tr>\n",
              "    <tr>\n",
              "      <th>4</th>\n",
              "      <td>0</td>\n",
              "      <td>2</td>\n",
              "      <td>70.70</td>\n",
              "      <td>151.65</td>\n",
              "      <td>Yes</td>\n",
              "      <td>1</td>\n",
              "      <td>23.566667</td>\n",
              "      <td>1</td>\n",
              "      <td>False</td>\n",
              "      <td>False</td>\n",
              "      <td>...</td>\n",
              "      <td>False</td>\n",
              "      <td>False</td>\n",
              "      <td>False</td>\n",
              "      <td>False</td>\n",
              "      <td>False</td>\n",
              "      <td>False</td>\n",
              "      <td>True</td>\n",
              "      <td>False</td>\n",
              "      <td>True</td>\n",
              "      <td>False</td>\n",
              "    </tr>\n",
              "  </tbody>\n",
              "</table>\n",
              "<p>5 rows × 28 columns</p>\n",
              "</div>"
            ],
            "text/plain": [
              "   SeniorCitizen  tenure  MonthlyCharges  TotalCharges Churn  ChurnEncoded  \\\n",
              "0              0       1           29.85         29.85    No             0   \n",
              "1              0      34           56.95       1889.50    No             0   \n",
              "2              0       2           53.85        108.15   Yes             1   \n",
              "3              0      45           42.30       1840.75    No             0   \n",
              "4              0       2           70.70        151.65   Yes             1   \n",
              "\n",
              "   MonthlyChargePerTenure  TotalServices  gender_Male  Partner_Yes  ...  \\\n",
              "0               14.925000              1        False         True  ...   \n",
              "1                1.627143              3         True        False  ...   \n",
              "2               17.950000              3         True        False  ...   \n",
              "3                0.919565              3         True        False  ...   \n",
              "4               23.566667              1        False        False  ...   \n",
              "\n",
              "   DeviceProtection_Yes  TechSupport_Yes  StreamingTV_Yes  \\\n",
              "0                 False            False            False   \n",
              "1                  True            False            False   \n",
              "2                 False            False            False   \n",
              "3                  True             True            False   \n",
              "4                 False            False            False   \n",
              "\n",
              "   StreamingMovies_Yes  Contract_One year  Contract_Two year  \\\n",
              "0                False              False              False   \n",
              "1                False               True              False   \n",
              "2                False              False              False   \n",
              "3                False               True              False   \n",
              "4                False              False              False   \n",
              "\n",
              "   PaperlessBilling_Yes  PaymentMethod_Credit card (automatic)  \\\n",
              "0                  True                                  False   \n",
              "1                 False                                  False   \n",
              "2                  True                                  False   \n",
              "3                 False                                  False   \n",
              "4                  True                                  False   \n",
              "\n",
              "   PaymentMethod_Electronic check  PaymentMethod_Mailed check  \n",
              "0                            True                       False  \n",
              "1                           False                        True  \n",
              "2                           False                        True  \n",
              "3                           False                       False  \n",
              "4                            True                       False  \n",
              "\n",
              "[5 rows x 28 columns]"
            ]
          },
          "execution_count": 12,
          "metadata": {},
          "output_type": "execute_result"
        }
      ],
      "source": [
        "# Drop customerID as it's not predictive\n",
        "df.drop('customerID', axis=1, inplace=True)\n",
        "\n",
        "# Convert categorical columns to dummy variables (One-hot encoding)\n",
        "categorical_cols = df.select_dtypes(include=['object']).columns.drop('Churn')\n",
        "\n",
        "df_encoded = pd.get_dummies(df, columns=categorical_cols, drop_first=True)\n",
        "\n",
        "# Verify encoding\n",
        "df_encoded.head()\n"
      ]
    },
    {
      "cell_type": "code",
      "execution_count": 13,
      "metadata": {
        "colab": {
          "base_uri": "https://localhost:8080/"
        },
        "id": "QTWAq2Oc_6JU",
        "outputId": "d4260bef-a619-4923-8cc2-01cbfdb41f2e"
      },
      "outputs": [
        {
          "name": "stdout",
          "output_type": "stream",
          "text": [
            "X_train shape: (5634, 26)\n",
            "X_test shape: (1409, 26)\n"
          ]
        }
      ],
      "source": [
        "from sklearn.model_selection import train_test_split\n",
        "from sklearn.preprocessing import StandardScaler\n",
        "\n",
        "# Split data into features (X) and target (y)\n",
        "X = df_encoded.drop(['Churn', 'ChurnEncoded'], axis=1)\n",
        "y = df_encoded['ChurnEncoded']\n",
        "\n",
        "# Train-test split (80%-20%)\n",
        "X_train, X_test, y_train, y_test = train_test_split(X, y, test_size=0.2, random_state=42, stratify=y)\n",
        "\n",
        "# Feature Scaling\n",
        "scaler = StandardScaler()\n",
        "\n",
        "X_train_scaled = scaler.fit_transform(X_train)\n",
        "X_test_scaled = scaler.transform(X_test)\n",
        "\n",
        "print(\"X_train shape:\", X_train_scaled.shape)\n",
        "print(\"X_test shape:\", X_test_scaled.shape)\n"
      ]
    },
    {
      "cell_type": "code",
      "execution_count": 14,
      "metadata": {
        "colab": {
          "base_uri": "https://localhost:8080/"
        },
        "id": "gfDa00SM_79F",
        "outputId": "606eb54a-88a4-4fb6-9f5c-e15b4fd606e5"
      },
      "outputs": [
        {
          "name": "stderr",
          "output_type": "stream",
          "text": [
            "c:\\Users\\HP\\Downloads\\Telco Cust Churn\\env\\lib\\site-packages\\xgboost\\sklearn.py:1395: UserWarning: `use_label_encoder` is deprecated in 1.7.0.\n",
            "  warnings.warn(\"`use_label_encoder` is deprecated in 1.7.0.\")\n"
          ]
        },
        {
          "name": "stdout",
          "output_type": "stream",
          "text": [
            "===== Logistic Regression =====\n",
            "Accuracy: 0.8062\n",
            "ROC-AUC: 0.8465\n",
            "Classification Report:\n",
            "               precision    recall  f1-score   support\n",
            "\n",
            "           0       0.84      0.91      0.87      1035\n",
            "           1       0.67      0.53      0.59       374\n",
            "\n",
            "    accuracy                           0.81      1409\n",
            "   macro avg       0.76      0.72      0.73      1409\n",
            "weighted avg       0.80      0.81      0.80      1409\n",
            "\n",
            "===== Random Forest =====\n",
            "Accuracy: 0.7871\n",
            "ROC-AUC: 0.8235\n",
            "Classification Report:\n",
            "               precision    recall  f1-score   support\n",
            "\n",
            "           0       0.83      0.90      0.86      1035\n",
            "           1       0.63      0.48      0.54       374\n",
            "\n",
            "    accuracy                           0.79      1409\n",
            "   macro avg       0.73      0.69      0.70      1409\n",
            "weighted avg       0.77      0.79      0.78      1409\n",
            "\n",
            "===== XGBoost =====\n",
            "Accuracy: 0.7786\n",
            "ROC-AUC: 0.8122\n",
            "Classification Report:\n",
            "               precision    recall  f1-score   support\n",
            "\n",
            "           0       0.83      0.88      0.85      1035\n",
            "           1       0.60      0.51      0.55       374\n",
            "\n",
            "    accuracy                           0.78      1409\n",
            "   macro avg       0.71      0.69      0.70      1409\n",
            "weighted avg       0.77      0.78      0.77      1409\n",
            "\n"
          ]
        }
      ],
      "source": [
        "# Import necessary libraries\n",
        "from sklearn.linear_model import LogisticRegression\n",
        "from sklearn.ensemble import RandomForestClassifier\n",
        "from xgboost import XGBClassifier\n",
        "from sklearn.metrics import classification_report, confusion_matrix, roc_auc_score, roc_curve, accuracy_score\n",
        "\n",
        "# Initialize models\n",
        "models = {\n",
        "    \"Logistic Regression\": LogisticRegression(max_iter=1000, random_state=42),\n",
        "    \"Random Forest\": RandomForestClassifier(n_estimators=100, random_state=42),\n",
        "    \"XGBoost\": XGBClassifier(use_label_encoder=False, eval_metric='logloss', random_state=42)\n",
        "}\n",
        "\n",
        "# Function to train and evaluate each model\n",
        "def train_evaluate_model(model, X_train, X_test, y_train, y_test):\n",
        "    model.fit(X_train, y_train)\n",
        "    predictions = model.predict(X_test)\n",
        "    probs = model.predict_proba(X_test)[:, 1]\n",
        "\n",
        "    # Evaluation metrics\n",
        "    accuracy = accuracy_score(y_test, predictions)\n",
        "    roc_auc = roc_auc_score(y_test, probs)\n",
        "    report = classification_report(y_test, predictions)\n",
        "\n",
        "    return accuracy, roc_auc, report\n",
        "\n",
        "# Train and evaluate each model\n",
        "results = {}\n",
        "\n",
        "for model_name, model in models.items():\n",
        "    accuracy, roc_auc, report = train_evaluate_model(model, X_train_scaled, X_test_scaled, y_train, y_test)\n",
        "\n",
        "    print(f\"===== {model_name} =====\")\n",
        "    print(f\"Accuracy: {accuracy:.4f}\")\n",
        "    print(f\"ROC-AUC: {roc_auc:.4f}\")\n",
        "    print(\"Classification Report:\\n\", report)\n",
        "\n",
        "    results[model_name] = {'Accuracy': accuracy, 'ROC_AUC': roc_auc}\n",
        "\n"
      ]
    },
    {
      "cell_type": "code",
      "execution_count": null,
      "metadata": {},
      "outputs": [],
      "source": []
    },
    {
      "cell_type": "code",
      "execution_count": 15,
      "metadata": {
        "colab": {
          "base_uri": "https://localhost:8080/",
          "height": 718
        },
        "id": "bPdcgjIrADSJ",
        "outputId": "078a7843-632e-4f60-f659-d7fa153db83b"
      },
      "outputs": [
        {
          "data": {
            "image/png": "[encoded data removed]",
            "text/plain": [
              "<Figure size 1000x800 with 1 Axes>"
            ]
          },
          "metadata": {},
          "output_type": "display_data"
        }
      ],
      "source": [
        "plt.figure(figsize=(10, 8))\n",
        "\n",
        "for model_name, model in models.items():\n",
        "    probs = model.predict_proba(X_test_scaled)[:, 1]\n",
        "    fpr, tpr, _ = roc_curve(y_test, probs)\n",
        "    roc_auc = roc_auc_score(y_test, probs)\n",
        "    plt.plot(fpr, tpr, label=f'{model_name} (AUC = {roc_auc:.2f})')\n",
        "\n",
        "plt.plot([0, 1], [0, 1], linestyle='--', color='gray')  # diagonal line\n",
        "plt.xlabel('False Positive Rate')\n",
        "plt.ylabel('True Positive Rate')\n",
        "plt.title('ROC Curve Comparison')\n",
        "plt.legend()\n",
        "plt.show()\n"
      ]
    },
    {
      "cell_type": "code",
      "execution_count": 16,
      "metadata": {
        "colab": {
          "base_uri": "https://localhost:8080/"
        },
        "id": "eAVEMeV8AYUJ",
        "outputId": "6f7bc390-5271-4625-8d69-2095af48020d"
      },
      "outputs": [
        {
          "name": "stdout",
          "output_type": "stream",
          "text": [
            "Requirement already satisfied: mlflow in c:\\users\\hp\\downloads\\telco cust churn\\env\\lib\\site-packages (2.21.3)\n",
            "Requirement already satisfied: mlflow-skinny==2.21.3 in c:\\users\\hp\\downloads\\telco cust churn\\env\\lib\\site-packages (from mlflow) (2.21.3)\n",
            "Requirement already satisfied: Flask<4 in c:\\users\\hp\\downloads\\telco cust churn\\env\\lib\\site-packages (from mlflow) (3.1.0)\n",
            "Requirement already satisfied: Jinja2<4,>=3.0 in c:\\users\\hp\\downloads\\telco cust churn\\env\\lib\\site-packages (from mlflow) (3.1.6)\n",
            "Requirement already satisfied: alembic!=1.10.0,<2 in c:\\users\\hp\\downloads\\telco cust churn\\env\\lib\\site-packages (from mlflow) (1.15.2)\n",
            "Requirement already satisfied: docker<8,>=4.0.0 in c:\\users\\hp\\downloads\\telco cust churn\\env\\lib\\site-packages (from mlflow) (7.1.0)\n",
            "Requirement already satisfied: graphene<4 in c:\\users\\hp\\downloads\\telco cust churn\\env\\lib\\site-packages (from mlflow) (3.4.3)\n",
            "Requirement already satisfied: markdown<4,>=3.3 in c:\\users\\hp\\downloads\\telco cust churn\\env\\lib\\site-packages (from mlflow) (3.7)\n",
            "Requirement already satisfied: matplotlib<4 in c:\\users\\hp\\downloads\\telco cust churn\\env\\lib\\site-packages (from mlflow) (3.10.1)\n",
            "Requirement already satisfied: numpy<3 in c:\\users\\hp\\downloads\\telco cust churn\\env\\lib\\site-packages (from mlflow) (2.2.4)\n",
            "Requirement already satisfied: pandas<3 in c:\\users\\hp\\downloads\\telco cust churn\\env\\lib\\site-packages (from mlflow) (2.2.3)\n",
            "Requirement already satisfied: pyarrow<20,>=4.0.0 in c:\\users\\hp\\downloads\\telco cust churn\\env\\lib\\site-packages (from mlflow) (19.0.1)\n",
            "Requirement already satisfied: scikit-learn<2 in c:\\users\\hp\\downloads\\telco cust churn\\env\\lib\\site-packages (from mlflow) (1.6.1)\n",
            "Requirement already satisfied: scipy<2 in c:\\users\\hp\\downloads\\telco cust churn\\env\\lib\\site-packages (from mlflow) (1.15.2)\n",
            "Requirement already satisfied: sqlalchemy<3,>=1.4.0 in c:\\users\\hp\\downloads\\telco cust churn\\env\\lib\\site-packages (from mlflow) (2.0.40)\n",
            "Requirement already satisfied: waitress<4 in c:\\users\\hp\\downloads\\telco cust churn\\env\\lib\\site-packages (from mlflow) (3.0.2)\n",
            "Requirement already satisfied: cachetools<6,>=5.0.0 in c:\\users\\hp\\downloads\\telco cust churn\\env\\lib\\site-packages (from mlflow-skinny==2.21.3->mlflow) (5.5.2)\n",
            "Requirement already satisfied: click<9,>=7.0 in c:\\users\\hp\\downloads\\telco cust churn\\env\\lib\\site-packages (from mlflow-skinny==2.21.3->mlflow) (8.1.8)\n",
            "Requirement already satisfied: cloudpickle<4 in c:\\users\\hp\\downloads\\telco cust churn\\env\\lib\\site-packages (from mlflow-skinny==2.21.3->mlflow) (3.1.1)\n",
            "Requirement already satisfied: databricks-sdk<1,>=0.20.0 in c:\\users\\hp\\downloads\\telco cust churn\\env\\lib\\site-packages (from mlflow-skinny==2.21.3->mlflow) (0.49.0)\n",
            "Requirement already satisfied: fastapi<1 in c:\\users\\hp\\downloads\\telco cust churn\\env\\lib\\site-packages (from mlflow-skinny==2.21.3->mlflow) (0.115.12)\n",
            "Requirement already satisfied: gitpython<4,>=3.1.9 in c:\\users\\hp\\downloads\\telco cust churn\\env\\lib\\site-packages (from mlflow-skinny==2.21.3->mlflow) (3.1.44)\n",
            "Requirement already satisfied: importlib_metadata!=4.7.0,<9,>=3.7.0 in c:\\users\\hp\\downloads\\telco cust churn\\env\\lib\\site-packages (from mlflow-skinny==2.21.3->mlflow) (8.6.1)\n",
            "Requirement already satisfied: opentelemetry-api<3,>=1.9.0 in c:\\users\\hp\\downloads\\telco cust churn\\env\\lib\\site-packages (from mlflow-skinny==2.21.3->mlflow) (1.31.1)\n",
            "Requirement already satisfied: opentelemetry-sdk<3,>=1.9.0 in c:\\users\\hp\\downloads\\telco cust churn\\env\\lib\\site-packages (from mlflow-skinny==2.21.3->mlflow) (1.31.1)\n",
            "Requirement already satisfied: packaging<25 in c:\\users\\hp\\downloads\\telco cust churn\\env\\lib\\site-packages (from mlflow-skinny==2.21.3->mlflow) (24.2)\n",
            "Requirement already satisfied: protobuf<6,>=3.12.0 in c:\\users\\hp\\downloads\\telco cust churn\\env\\lib\\site-packages (from mlflow-skinny==2.21.3->mlflow) (5.29.4)\n",
            "Requirement already satisfied: pydantic<3,>=1.10.8 in c:\\users\\hp\\downloads\\telco cust churn\\env\\lib\\site-packages (from mlflow-skinny==2.21.3->mlflow) (2.11.2)\n",
            "Requirement already satisfied: pyyaml<7,>=5.1 in c:\\users\\hp\\downloads\\telco cust churn\\env\\lib\\site-packages (from mlflow-skinny==2.21.3->mlflow) (6.0.2)\n",
            "Requirement already satisfied: requests<3,>=2.17.3 in c:\\users\\hp\\downloads\\telco cust churn\\env\\lib\\site-packages (from mlflow-skinny==2.21.3->mlflow) (2.32.3)\n",
            "Requirement already satisfied: sqlparse<1,>=0.4.0 in c:\\users\\hp\\downloads\\telco cust churn\\env\\lib\\site-packages (from mlflow-skinny==2.21.3->mlflow) (0.5.3)\n",
            "Requirement already satisfied: typing-extensions<5,>=4.0.0 in c:\\users\\hp\\downloads\\telco cust churn\\env\\lib\\site-packages (from mlflow-skinny==2.21.3->mlflow) (4.13.1)\n",
            "Requirement already satisfied: uvicorn<1 in c:\\users\\hp\\downloads\\telco cust churn\\env\\lib\\site-packages (from mlflow-skinny==2.21.3->mlflow) (0.34.0)\n",
            "Requirement already satisfied: Mako in c:\\users\\hp\\downloads\\telco cust churn\\env\\lib\\site-packages (from alembic!=1.10.0,<2->mlflow) (1.3.9)\n",
            "Requirement already satisfied: pywin32>=304 in c:\\users\\hp\\downloads\\telco cust churn\\env\\lib\\site-packages (from docker<8,>=4.0.0->mlflow) (310)\n",
            "Requirement already satisfied: urllib3>=1.26.0 in c:\\users\\hp\\downloads\\telco cust churn\\env\\lib\\site-packages (from docker<8,>=4.0.0->mlflow) (2.3.0)\n",
            "Requirement already satisfied: Werkzeug>=3.1 in c:\\users\\hp\\downloads\\telco cust churn\\env\\lib\\site-packages (from Flask<4->mlflow) (3.1.3)\n",
            "Requirement already satisfied: itsdangerous>=2.2 in c:\\users\\hp\\downloads\\telco cust churn\\env\\lib\\site-packages (from Flask<4->mlflow) (2.2.0)\n",
            "Requirement already satisfied: blinker>=1.9 in c:\\users\\hp\\downloads\\telco cust churn\\env\\lib\\site-packages (from Flask<4->mlflow) (1.9.0)\n",
            "Requirement already satisfied: graphql-core<3.3,>=3.1 in c:\\users\\hp\\downloads\\telco cust churn\\env\\lib\\site-packages (from graphene<4->mlflow) (3.2.6)\n",
            "Requirement already satisfied: graphql-relay<3.3,>=3.1 in c:\\users\\hp\\downloads\\telco cust churn\\env\\lib\\site-packages (from graphene<4->mlflow) (3.2.0)\n",
            "Requirement already satisfied: python-dateutil<3,>=2.7.0 in c:\\users\\hp\\downloads\\telco cust churn\\env\\lib\\site-packages (from graphene<4->mlflow) (2.9.0.post0)\n",
            "Requirement already satisfied: MarkupSafe>=2.0 in c:\\users\\hp\\downloads\\telco cust churn\\env\\lib\\site-packages (from Jinja2<4,>=3.0->mlflow) (3.0.2)\n",
            "Requirement already satisfied: contourpy>=1.0.1 in c:\\users\\hp\\downloads\\telco cust churn\\env\\lib\\site-packages (from matplotlib<4->mlflow) (1.3.1)\n",
            "Requirement already satisfied: cycler>=0.10 in c:\\users\\hp\\downloads\\telco cust churn\\env\\lib\\site-packages (from matplotlib<4->mlflow) (0.12.1)\n",
            "Requirement already satisfied: fonttools>=4.22.0 in c:\\users\\hp\\downloads\\telco cust churn\\env\\lib\\site-packages (from matplotlib<4->mlflow) (4.57.0)\n",
            "Requirement already satisfied: kiwisolver>=1.3.1 in c:\\users\\hp\\downloads\\telco cust churn\\env\\lib\\site-packages (from matplotlib<4->mlflow) (1.4.8)\n",
            "Requirement already satisfied: pillow>=8 in c:\\users\\hp\\downloads\\telco cust churn\\env\\lib\\site-packages (from matplotlib<4->mlflow) (11.1.0)\n",
            "Requirement already satisfied: pyparsing>=2.3.1 in c:\\users\\hp\\downloads\\telco cust churn\\env\\lib\\site-packages (from matplotlib<4->mlflow) (3.2.3)\n",
            "Requirement already satisfied: pytz>=2020.1 in c:\\users\\hp\\downloads\\telco cust churn\\env\\lib\\site-packages (from pandas<3->mlflow) (2025.2)\n",
            "Requirement already satisfied: tzdata>=2022.7 in c:\\users\\hp\\downloads\\telco cust churn\\env\\lib\\site-packages (from pandas<3->mlflow) (2025.2)\n",
            "Requirement already satisfied: joblib>=1.2.0 in c:\\users\\hp\\downloads\\telco cust churn\\env\\lib\\site-packages (from scikit-learn<2->mlflow) (1.4.2)\n",
            "Requirement already satisfied: threadpoolctl>=3.1.0 in c:\\users\\hp\\downloads\\telco cust churn\\env\\lib\\site-packages (from scikit-learn<2->mlflow) (3.6.0)\n",
            "Requirement already satisfied: greenlet>=1 in c:\\users\\hp\\downloads\\telco cust churn\\env\\lib\\site-packages (from sqlalchemy<3,>=1.4.0->mlflow) (3.1.1)\n",
            "Requirement already satisfied: colorama in c:\\users\\hp\\downloads\\telco cust churn\\env\\lib\\site-packages (from click<9,>=7.0->mlflow-skinny==2.21.3->mlflow) (0.4.6)\n",
            "Requirement already satisfied: google-auth~=2.0 in c:\\users\\hp\\downloads\\telco cust churn\\env\\lib\\site-packages (from databricks-sdk<1,>=0.20.0->mlflow-skinny==2.21.3->mlflow) (2.38.0)\n",
            "Requirement already satisfied: starlette<0.47.0,>=0.40.0 in c:\\users\\hp\\downloads\\telco cust churn\\env\\lib\\site-packages (from fastapi<1->mlflow-skinny==2.21.3->mlflow) (0.46.1)\n",
            "Requirement already satisfied: gitdb<5,>=4.0.1 in c:\\users\\hp\\downloads\\telco cust churn\\env\\lib\\site-packages (from gitpython<4,>=3.1.9->mlflow-skinny==2.21.3->mlflow) (4.0.12)\n",
            "Requirement already satisfied: zipp>=3.20 in c:\\users\\hp\\downloads\\telco cust churn\\env\\lib\\site-packages (from importlib_metadata!=4.7.0,<9,>=3.7.0->mlflow-skinny==2.21.3->mlflow) (3.21.0)\n",
            "Requirement already satisfied: deprecated>=1.2.6 in c:\\users\\hp\\downloads\\telco cust churn\\env\\lib\\site-packages (from opentelemetry-api<3,>=1.9.0->mlflow-skinny==2.21.3->mlflow) (1.2.18)\n",
            "Requirement already satisfied: opentelemetry-semantic-conventions==0.52b1 in c:\\users\\hp\\downloads\\telco cust churn\\env\\lib\\site-packages (from opentelemetry-sdk<3,>=1.9.0->mlflow-skinny==2.21.3->mlflow) (0.52b1)\n",
            "Requirement already satisfied: annotated-types>=0.6.0 in c:\\users\\hp\\downloads\\telco cust churn\\env\\lib\\site-packages (from pydantic<3,>=1.10.8->mlflow-skinny==2.21.3->mlflow) (0.7.0)\n",
            "Requirement already satisfied: pydantic-core==2.33.1 in c:\\users\\hp\\downloads\\telco cust churn\\env\\lib\\site-packages (from pydantic<3,>=1.10.8->mlflow-skinny==2.21.3->mlflow) (2.33.1)\n",
            "Requirement already satisfied: typing-inspection>=0.4.0 in c:\\users\\hp\\downloads\\telco cust churn\\env\\lib\\site-packages (from pydantic<3,>=1.10.8->mlflow-skinny==2.21.3->mlflow) (0.4.0)\n",
            "Requirement already satisfied: six>=1.5 in c:\\users\\hp\\downloads\\telco cust churn\\env\\lib\\site-packages (from python-dateutil<3,>=2.7.0->graphene<4->mlflow) (1.17.0)\n",
            "Requirement already satisfied: charset-normalizer<4,>=2 in c:\\users\\hp\\downloads\\telco cust churn\\env\\lib\\site-packages (from requests<3,>=2.17.3->mlflow-skinny==2.21.3->mlflow) (3.4.1)\n",
            "Requirement already satisfied: idna<4,>=2.5 in c:\\users\\hp\\downloads\\telco cust churn\\env\\lib\\site-packages (from requests<3,>=2.17.3->mlflow-skinny==2.21.3->mlflow) (3.10)\n",
            "Requirement already satisfied: certifi>=2017.4.17 in c:\\users\\hp\\downloads\\telco cust churn\\env\\lib\\site-packages (from requests<3,>=2.17.3->mlflow-skinny==2.21.3->mlflow) (2025.1.31)\n",
            "Requirement already satisfied: h11>=0.8 in c:\\users\\hp\\downloads\\telco cust churn\\env\\lib\\site-packages (from uvicorn<1->mlflow-skinny==2.21.3->mlflow) (0.14.0)\n",
            "Requirement already satisfied: wrapt<2,>=1.10 in c:\\users\\hp\\downloads\\telco cust churn\\env\\lib\\site-packages (from deprecated>=1.2.6->opentelemetry-api<3,>=1.9.0->mlflow-skinny==2.21.3->mlflow) (1.17.2)\n",
            "Requirement already satisfied: smmap<6,>=3.0.1 in c:\\users\\hp\\downloads\\telco cust churn\\env\\lib\\site-packages (from gitdb<5,>=4.0.1->gitpython<4,>=3.1.9->mlflow-skinny==2.21.3->mlflow) (5.0.2)\n",
            "Requirement already satisfied: pyasn1-modules>=0.2.1 in c:\\users\\hp\\downloads\\telco cust churn\\env\\lib\\site-packages (from google-auth~=2.0->databricks-sdk<1,>=0.20.0->mlflow-skinny==2.21.3->mlflow) (0.4.2)\n",
            "Requirement already satisfied: rsa<5,>=3.1.4 in c:\\users\\hp\\downloads\\telco cust churn\\env\\lib\\site-packages (from google-auth~=2.0->databricks-sdk<1,>=0.20.0->mlflow-skinny==2.21.3->mlflow) (4.9)\n",
            "Requirement already satisfied: anyio<5,>=3.6.2 in c:\\users\\hp\\downloads\\telco cust churn\\env\\lib\\site-packages (from starlette<0.47.0,>=0.40.0->fastapi<1->mlflow-skinny==2.21.3->mlflow) (4.9.0)\n",
            "Requirement already satisfied: exceptiongroup>=1.0.2 in c:\\users\\hp\\downloads\\telco cust churn\\env\\lib\\site-packages (from anyio<5,>=3.6.2->starlette<0.47.0,>=0.40.0->fastapi<1->mlflow-skinny==2.21.3->mlflow) (1.2.2)\n",
            "Requirement already satisfied: sniffio>=1.1 in c:\\users\\hp\\downloads\\telco cust churn\\env\\lib\\site-packages (from anyio<5,>=3.6.2->starlette<0.47.0,>=0.40.0->fastapi<1->mlflow-skinny==2.21.3->mlflow) (1.3.1)\n",
            "Requirement already satisfied: pyasn1<0.7.0,>=0.6.1 in c:\\users\\hp\\downloads\\telco cust churn\\env\\lib\\site-packages (from pyasn1-modules>=0.2.1->google-auth~=2.0->databricks-sdk<1,>=0.20.0->mlflow-skinny==2.21.3->mlflow) (0.6.1)\n"
          ]
        }
      ],
      "source": [
        "!pip install mlflow\n"
      ]
    },
    {
      "cell_type": "code",
      "execution_count": 17,
      "metadata": {
        "colab": {
          "base_uri": "https://localhost:8080/"
        },
        "id": "I75OLJvVA6fF",
        "outputId": "e457e604-cd85-4f33-dc57-da427110b69c"
      },
      "outputs": [
        {
          "name": "stderr",
          "output_type": "stream",
          "text": [
            "2025/04/06 15:05:42 WARNING mlflow.models.model: Model logged without a signature and input example. Please set `input_example` parameter when logging the model to auto infer the model signature.\n"
          ]
        },
        {
          "name": "stdout",
          "output_type": "stream",
          "text": [
            "Model logged with accuracy: 0.8062, ROC-AUC: 0.8465\n"
          ]
        }
      ],
      "source": [
        "import mlflow\n",
        "import mlflow.sklearn\n",
        "\n",
        "# Start MLflow run\n",
        "with mlflow.start_run(run_name='Logistic Regression - Churn Prediction'):\n",
        "\n",
        "    # Train Logistic Regression model again explicitly\n",
        "    model = LogisticRegression(max_iter=1000, random_state=42)\n",
        "    model.fit(X_train_scaled, y_train)\n",
        "\n",
        "    # Make predictions\n",
        "    predictions = model.predict(X_test_scaled)\n",
        "    probs = model.predict_proba(X_test_scaled)[:, 1]\n",
        "\n",
        "    # Calculate metrics\n",
        "    accuracy = accuracy_score(y_test, predictions)\n",
        "    roc_auc = roc_auc_score(y_test, probs)\n",
        "\n",
        "    # Log model parameters\n",
        "    mlflow.log_param(\"model_type\", \"LogisticRegression\")\n",
        "    mlflow.log_param(\"max_iter\", 1000)\n",
        "\n",
        "    # Log evaluation metrics\n",
        "    mlflow.log_metric(\"accuracy\", accuracy)\n",
        "    mlflow.log_metric(\"roc_auc\", roc_auc)\n",
        "\n",
        "    # Log the trained model\n",
        "    mlflow.sklearn.log_model(model, \"logistic_regression_model\")\n",
        "\n",
        "    print(f\"Model logged with accuracy: {accuracy:.4f}, ROC-AUC: {roc_auc:.4f}\")\n"
      ]
    },
    {
      "cell_type": "code",
      "execution_count": 20,
      "metadata": {
        "id": "w0e1cwO7Bge-"
      },
      "outputs": [],
      "source": [
        "import mlflow.sklearn\n",
        "\n",
        "# Replace with your MLflow run-id\n",
        "logged_model = 'C:/Users/HP/Downloads/Telco Cust Churn/mlruns/0/567166abeb08445fa0bab1b281ab71a7/artifacts/logistic_regression_model'\n",
        "\n",
        "# Load the model from MLflow\n",
        "model = mlflow.sklearn.load_model(logged_model)\n"
      ]
    },
    {
      "cell_type": "code",
      "execution_count": 22,
      "metadata": {
        "colab": {
          "base_uri": "https://localhost:8080/",
          "height": 297
        },
        "id": "OPTCZk6HBuoh",
        "outputId": "79bea927-3c64-440d-9d03-9a35b5d731a6"
      },
      "outputs": [
        {
          "name": "stdout",
          "output_type": "stream",
          "text": [
            "✅ Model saved successfully!\n"
          ]
        }
      ],
      "source": [
        "import joblib\n",
        "import os\n",
        "\n",
        "# Create a model directory if it doesn't exist\n",
        "os.makedirs(\"telco-churn-deployment/model\", exist_ok=True)\n",
        "\n",
        "# Save the model\n",
        "joblib.dump(model, \"telco-churn-deployment/model/logistic_regression_model.pkl\")\n",
        "\n",
        "print(\"✅ Model saved successfully!\")\n",
        "\n"
      ]
    },
    {
      "cell_type": "code",
      "execution_count": 23,
      "metadata": {
        "id": "z2VP1nRiBypx"
      },
      "outputs": [
        {
          "name": "stdout",
          "output_type": "stream",
          "text": [
            "['logistic_regression_model.pkl']\n"
          ]
        }
      ],
      "source": [
        "import os\n",
        "print(os.listdir(\"telco-churn-deployment/model\"))\n"
      ]
    },
    {
      "cell_type": "code",
      "execution_count": 24,
      "metadata": {},
      "outputs": [
        {
          "name": "stdout",
          "output_type": "stream",
          "text": [
            "{\"data\": [[-0.44177295439277764, 1.6084834273893616, 1.6299763471022684, 2.7076141006572096, -0.4798303764952083, 2.184869503901784, 0.9943362376363841, 1.0317424524031547, 1.5347862362384515, 0.3318851958904337, -0.3318851958904337, 1.1650417055763358, 1.1265120504989958, -0.5240807509193244, 1.5720525923295021, 1.3595336141962153, 1.3755715631171914, 1.5545469214496157, 1.2521631238002848, 1.2479670258804818, -0.5127821446857728, 1.7736108266016, 0.8314950202966611, 1.9091051844021834, -0.7107810667284712, -0.5438457219407257]]}\n"
          ]
        }
      ],
      "source": [
        "import json\n",
        "print(json.dumps({\"data\": [X_test_scaled[0].tolist()]}))\n"
      ]
    },
    {
      "cell_type": "code",
      "execution_count": null,
      "metadata": {},
      "outputs": [],
      "source": []
    }
  ],
  "metadata": {
    "colab": {
      "provenance": []
    },
    "kernelspec": {
      "display_name": "env",
      "language": "python",
      "name": "python3"
    },
    "language_info": {
      "codemirror_mode": {
        "name": "ipython",
        "version": 3
      },
      "file_extension": ".py",
      "mimetype": "text/x-python",
      "name": "python",
      "nbconvert_exporter": "python",
      "pygments_lexer": "ipython3",
      "version": "3.10.4"
    }
  },
  "nbformat": 4,
  "nbformat_minor": 0
}
